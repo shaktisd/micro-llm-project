{
 "cells": [
  {
   "cell_type": "code",
   "execution_count": null,
   "id": "73acdc78",
   "metadata": {
    "vscode": {
     "languageId": "plaintext"
    }
   },
   "outputs": [],
   "source": [
    "# Cell 1: Setup\n",
    "%matplotlib inline\n",
    "import sys\n",
    "sys.path.append('../src')\n",
    "\n",
    "from micro_llm import *\n",
    "from training_utils import *\n",
    "import matplotlib.pyplot as plt\n",
    "import seaborn as sns\n",
    "\n",
    "# Cell 2: Load trained model\n",
    "model_path = '../models/micro_llm_trained.pth'\n",
    "if os.path.exists(model_path):\n",
    "    checkpoint = torch.load(model_path, map_location='cpu')\n",
    "    # Load model and tokenizer\n",
    "    print(\"Model loaded successfully!\")\n",
    "else:\n",
    "    print(\"No trained model found. Run training first!\")\n",
    "\n",
    "# Cell 3: Interactive text generation\n",
    "def interactive_generate():\n",
    "    prompt = input(\"Enter prompt: \")\n",
    "    result = generate_text(model, tokenizer, prompt, max_length=30)\n",
    "    print(f\"Generated: {result}\")\n",
    "\n",
    "# Cell 4: Attention analysis\n",
    "def analyze_attention():\n",
    "    text = \"To be or not to be that is the question\"\n",
    "    visualize_attention(model, tokenizer, text)"
   ]
  }
 ],
 "metadata": {
  "language_info": {
   "name": "python"
  }
 },
 "nbformat": 4,
 "nbformat_minor": 5
}
